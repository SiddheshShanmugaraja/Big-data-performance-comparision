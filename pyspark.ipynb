{
  "nbformat": 4,
  "nbformat_minor": 0,
  "metadata": {
    "colab": {
      "name": "pyspark.ipynb",
      "provenance": [],
      "collapsed_sections": []
    },
    "kernelspec": {
      "display_name": "Python 3",
      "name": "python3"
    }
  },
  "cells": [
    {
      "cell_type": "markdown",
      "metadata": {
        "id": "m9MtMMmHKCw2"
      },
      "source": [
        "# **Installation of JDK,SPARK,HADOOP and PYSPARK**"
      ]
    },
    {
      "cell_type": "code",
      "metadata": {
        "id": "2PAExcSRzs2_"
      },
      "source": [
        "!apt-get install openjdk-8-jdk-headless -qq > /dev/null"
      ],
      "execution_count": null,
      "outputs": []
    },
    {
      "cell_type": "code",
      "metadata": {
        "id": "Ldd315bI0KTU"
      },
      "source": [
        "!wget -q https://downloads.apache.org/spark/spark-3.0.1/spark-3.0.1-bin-hadoop3.2.tgz"
      ],
      "execution_count": null,
      "outputs": []
    },
    {
      "cell_type": "code",
      "metadata": {
        "id": "8WaQLjQp1C_y"
      },
      "source": [
        "!tar xf spark-3.0.1-bin-hadoop3.2.tgz"
      ],
      "execution_count": null,
      "outputs": []
    },
    {
      "cell_type": "code",
      "metadata": {
        "id": "K2W8AlnV1H19"
      },
      "source": [
        "!pip install -q findspark\n",
        "!pip install pyspark"
      ],
      "execution_count": null,
      "outputs": []
    },
    {
      "cell_type": "markdown",
      "metadata": {
        "id": "R_5eqKH7KpPe"
      },
      "source": [
        "# **Dataset downloading and unzipping**"
      ]
    },
    {
      "cell_type": "code",
      "metadata": {
        "id": "rdQs__PP7Izj"
      },
      "source": [
        "!wget -q https://archive.ics.uci.edu/ml/machine-learning-databases/00526/data.zip"
      ],
      "execution_count": null,
      "outputs": []
    },
    {
      "cell_type": "code",
      "metadata": {
        "id": "gUfc1SZR8MAC"
      },
      "source": [
        "from zipfile import ZipFile as zip"
      ],
      "execution_count": null,
      "outputs": []
    },
    {
      "cell_type": "code",
      "metadata": {
        "id": "b7ym9gK28YVa"
      },
      "source": [
        "zip('/content/data.zip').extractall()"
      ],
      "execution_count": null,
      "outputs": []
    },
    {
      "cell_type": "markdown",
      "metadata": {
        "id": "Np_CFa6G1LAk"
      },
      "source": [
        ""
      ]
    },
    {
      "cell_type": "markdown",
      "metadata": {
        "id": "fg8Y2dToK4D3"
      },
      "source": [
        "# **Spark**"
      ]
    },
    {
      "cell_type": "markdown",
      "metadata": {
        "id": "VO36SsdlLIRY"
      },
      "source": [
        "## **Spark Context Initialisation**"
      ]
    },
    {
      "cell_type": "code",
      "metadata": {
        "id": "spWrIQ6u1QPq"
      },
      "source": [
        "from pyspark import SparkContext"
      ],
      "execution_count": null,
      "outputs": []
    },
    {
      "cell_type": "code",
      "metadata": {
        "id": "6f2LEhZj1jES"
      },
      "source": [
        "sc = SparkContext()"
      ],
      "execution_count": null,
      "outputs": []
    },
    {
      "cell_type": "markdown",
      "metadata": {
        "id": "hvr5JRlNLrSZ"
      },
      "source": [
        "##**Loading the dataset to the spark SQL session**"
      ]
    },
    {
      "cell_type": "code",
      "metadata": {
        "id": "FJmfFWC62fVr"
      },
      "source": [
        "from pyspark.sql import DataFrameReader,SparkSession"
      ],
      "execution_count": null,
      "outputs": []
    },
    {
      "cell_type": "code",
      "metadata": {
        "id": "oDTwpITK_iDI"
      },
      "source": [
        "spark = SparkSession.builder.master(\"local[8]\").appName('BitcoinHeist').getOrCreate()"
      ],
      "execution_count": null,
      "outputs": []
    },
    {
      "cell_type": "code",
      "metadata": {
        "id": "P4fOvhgz_tol"
      },
      "source": [
        "dataset = spark.read.options(header='True', infershema=True) \\\n",
        "  .csv(\"/content/BitcoinHeistData.csv\")"
      ],
      "execution_count": null,
      "outputs": []
    },
    {
      "cell_type": "code",
      "metadata": {
        "id": "Ze8x1O3vCuR4",
        "colab": {
          "base_uri": "https://localhost:8080/",
          "height": 214
        },
        "outputId": "a70dfbc0-0ce4-4019-ac0a-bf2c1af8c7af"
      },
      "source": [
        "dataset.printSchema()"
      ],
      "execution_count": null,
      "outputs": [
        {
          "output_type": "stream",
          "text": [
            "root\n",
            " |-- address: string (nullable = true)\n",
            " |-- year: string (nullable = true)\n",
            " |-- day: string (nullable = true)\n",
            " |-- length: string (nullable = true)\n",
            " |-- weight: string (nullable = true)\n",
            " |-- count: string (nullable = true)\n",
            " |-- looped: string (nullable = true)\n",
            " |-- neighbors: string (nullable = true)\n",
            " |-- income: string (nullable = true)\n",
            " |-- label: string (nullable = true)\n",
            "\n"
          ],
          "name": "stdout"
        }
      ]
    },
    {
      "cell_type": "code",
      "metadata": {
        "id": "-1R4NYyr59Zp",
        "colab": {
          "base_uri": "https://localhost:8080/",
          "height": 444
        },
        "outputId": "b340feb9-0552-44af-e0bd-ed0c3f979663"
      },
      "source": [
        "dataset.show()"
      ],
      "execution_count": null,
      "outputs": [
        {
          "output_type": "stream",
          "text": [
            "+--------------------+----+---+------+--------------------+-----+------+---------+---------+--------------------+\n",
            "|             address|year|day|length|              weight|count|looped|neighbors|   income|               label|\n",
            "+--------------------+----+---+------+--------------------+-----+------+---------+---------+--------------------+\n",
            "|111K8kZAEnJg245r2...|2017| 11|    18| 0.00833333333333333|    1|     0|        2|100050000|     princetonCerber|\n",
            "|1123pJv8jzeFQaCV4...|2016|132|    44|      0.000244140625|    1|     0|        1|    1e+08|      princetonLocky|\n",
            "|112536im7hy6wtKbp...|2016|246|     0|                   1|    1|     0|        2|    2e+08|     princetonCerber|\n",
            "|1126eDRw2wqSkWosj...|2016|322|    72|          0.00390625|    1|     0|        2| 71200000|     princetonCerber|\n",
            "|1129TSjKtx65E35Gi...|2016|238|   144|  0.0728484071989931|  456|     0|        1|    2e+08|      princetonLocky|\n",
            "|112AmFATxzhuSpvtz...|2016| 96|   144|  0.0846139993386755| 2821|     0|        1|    5e+07|      princetonLocky|\n",
            "|112E91jxS2qrQY1z7...|2016|225|   142|  0.0020885186101272|  881|     0|        2|    1e+08|     princetonCerber|\n",
            "|112eFykaD53KEkKeY...|2016|324|    78|          0.00390625|    1|     0|        2|100990000|     princetonCerber|\n",
            "|112FTiRdJjMrNgEtd...|2016|298|   144|     2.3028283088657| 4220|     0|        2|    8e+07|     princetonCerber|\n",
            "|112GocBgFSnaote6k...|2016| 62|   112|3.72529029846191e-09|    1|     0|        1|    5e+07|      princetonLocky|\n",
            "|112gXL4AeJ62DX3ht...|2013|317|     4| 0.00714285714285714|    2|     0|        1|    1e+08|montrealCryptoLocker|\n",
            "|112nEBUadWiMxzUUA...|2016|247|     0|                   1|    1|     0|        2|108560000|     princetonCerber|\n",
            "|112Ns49UobQn1cX1G...|2016|146|   144|   0.877484787195917| 4817|     0|        1|104020000|    montrealCryptXXX|\n",
            "|112vq2Wt7Mo8RD5jC...|2017|  3|     4|            0.015625|    1|     0|        2|  5.6e+07|     princetonCerber|\n",
            "|112wED5uHhY1aiSaW...|2016|158|    56|    3.0517578125e-05|    1|     0|        1|  1.2e+08|    montrealCryptXXX|\n",
            "|112wED5uHhY1aiSaW...|2016|156|     8|                0.75|    2|     0|        4|  2.4e+08|    montrealCryptXXX|\n",
            "|112wjYgWapZU8gTPR...|2016|273|   144| 0.00874675210903953| 1168|     0|        1|  5.5e+08|      princetonLocky|\n",
            "|1131P1hjj7h9NinHR...|2016| 56|     4|   0.145833333333333|    4|     0|        1|    5e+08|      princetonLocky|\n",
            "|1132fapAqQVQJjZip...|2016|165|    10|  0.0119047619047619|    1|     0|        2|    2e+08|     princetonCerber|\n",
            "|1136MFiqBmoVWpqWr...|2016|109|     0|                 0.5|    1|     0|        1| 1.01e+08|      princetonLocky|\n",
            "+--------------------+----+---+------+--------------------+-----+------+---------+---------+--------------------+\n",
            "only showing top 20 rows\n",
            "\n"
          ],
          "name": "stdout"
        }
      ]
    },
    {
      "cell_type": "markdown",
      "metadata": {
        "id": "4lKxypv-MEd6"
      },
      "source": [
        "## **Exploratory Data Analysis**"
      ]
    },
    {
      "cell_type": "code",
      "metadata": {
        "id": "M_YPP1N4690G"
      },
      "source": [
        "float_features = ['year','day','length','weight','count','looped','neighbors','income']\n",
        "for feature in float_features:\n",
        "  dataset = dataset.withColumn(feature,dataset[feature].cast(\"float\"))"
      ],
      "execution_count": null,
      "outputs": []
    },
    {
      "cell_type": "code",
      "metadata": {
        "id": "lYqS7U9A7gnB",
        "colab": {
          "base_uri": "https://localhost:8080/",
          "height": 214
        },
        "outputId": "ac70882f-f2c3-4820-ada1-32e75e1774ea"
      },
      "source": [
        "dataset.printSchema()"
      ],
      "execution_count": null,
      "outputs": [
        {
          "output_type": "stream",
          "text": [
            "root\n",
            " |-- address: string (nullable = true)\n",
            " |-- year: float (nullable = true)\n",
            " |-- day: float (nullable = true)\n",
            " |-- length: float (nullable = true)\n",
            " |-- weight: float (nullable = true)\n",
            " |-- count: float (nullable = true)\n",
            " |-- looped: float (nullable = true)\n",
            " |-- neighbors: float (nullable = true)\n",
            " |-- income: float (nullable = true)\n",
            " |-- label: string (nullable = true)\n",
            "\n"
          ],
          "name": "stdout"
        }
      ]
    },
    {
      "cell_type": "code",
      "metadata": {
        "id": "qJrmigonGTi3",
        "colab": {
          "base_uri": "https://localhost:8080/",
          "height": 32
        },
        "outputId": "f1e7fc9c-8b37-40ef-b71f-7705a54d0493"
      },
      "source": [
        "dataset.count()"
      ],
      "execution_count": null,
      "outputs": [
        {
          "output_type": "execute_result",
          "data": {
            "text/plain": [
              "2916697"
            ]
          },
          "metadata": {
            "tags": []
          },
          "execution_count": 17
        }
      ]
    },
    {
      "cell_type": "code",
      "metadata": {
        "id": "gDpEMRdnJJbX",
        "colab": {
          "base_uri": "https://localhost:8080/",
          "height": 181
        },
        "outputId": "ba7a8104-3ebc-41f4-c247-eb69be2b8fab"
      },
      "source": [
        "dataset.describe(dataset.columns).show()"
      ],
      "execution_count": null,
      "outputs": [
        {
          "output_type": "stream",
          "text": [
            "+-------+--------------------+-----------------+------------------+-----------------+------------------+-----------------+------------------+------------------+--------------------+-----------+\n",
            "|summary|             address|             year|               day|           length|            weight|            count|            looped|         neighbors|              income|      label|\n",
            "+-------+--------------------+-----------------+------------------+-----------------+------------------+-----------------+------------------+------------------+--------------------+-----------+\n",
            "|  count|             2916697|          2916697|           2916697|          2916697|           2916697|          2916697|           2916697|           2916697|             2916697|    2916697|\n",
            "|   mean|                null|2014.475011288454|  181.457211016434|45.00859293920486|0.5455192342715912|721.6446428957139|238.50669884461772| 2.206516137946451| 4.464889005939135E9|       null|\n",
            "| stddev|                null|2.257397552097361|104.01183576693997|58.98236229927737|3.6742552347552526| 1689.67579382834| 966.3216858193344|17.918765078246675|1.626859603965800...|       null|\n",
            "|    min|11111111111111111...|           2011.0|               1.0|              0.0|               0.0|              1.0|               0.0|               1.0|               3.0E7|montrealAPT|\n",
            "|    max|             unknown|           2018.0|             365.0|            144.0|         1943.7488|          14497.0|           14496.0|           12920.0|        4.9964399E13|      white|\n",
            "+-------+--------------------+-----------------+------------------+-----------------+------------------+-----------------+------------------+------------------+--------------------+-----------+\n",
            "\n"
          ],
          "name": "stdout"
        }
      ]
    },
    {
      "cell_type": "code",
      "metadata": {
        "id": "Sd4X4UtrAJSN"
      },
      "source": [
        "from pyspark.sql.functions import col,count,isnan,when"
      ],
      "execution_count": null,
      "outputs": []
    },
    {
      "cell_type": "code",
      "metadata": {
        "id": "1_thOwEgATaY",
        "colab": {
          "base_uri": "https://localhost:8080/",
          "height": 115
        },
        "outputId": "d9b79f38-5176-4a17-9c0b-fdf277768ba9"
      },
      "source": [
        "dataset.select([count(when(isnan(c),c)).alias(c) for c in dataset.columns]).show()"
      ],
      "execution_count": null,
      "outputs": [
        {
          "output_type": "stream",
          "text": [
            "+-------+----+---+------+------+-----+------+---------+------+-----+\n",
            "|address|year|day|length|weight|count|looped|neighbors|income|label|\n",
            "+-------+----+---+------+------+-----+------+---------+------+-----+\n",
            "|      0|   0|  0|     0|     0|    0|     0|        0|     0|    0|\n",
            "+-------+----+---+------+------+-----+------+---------+------+-----+\n",
            "\n"
          ],
          "name": "stdout"
        }
      ]
    },
    {
      "cell_type": "code",
      "metadata": {
        "id": "qdZfQMC6CfHo",
        "colab": {
          "base_uri": "https://localhost:8080/",
          "height": 609
        },
        "outputId": "f03f132b-2a06-4fef-fcfd-4a17945c0268"
      },
      "source": [
        "corr_features = dataset.columns[1:-1]\n",
        "total_corr=[]\n",
        "for feature1 in corr_features:\n",
        "  feature_corr=[]\n",
        "  for feature2 in corr_features[corr_features.index(feature1):]:\n",
        "    print(\"{} : {}\".format(corr_features.index(feature1),corr_features.index(feature2)))\n",
        "    feature_corr.append(dataset.corr(feature1,feature2))\n",
        "  total_corr.append(feature_corr)"
      ],
      "execution_count": null,
      "outputs": [
        {
          "output_type": "stream",
          "text": [
            "0 : 0\n",
            "0 : 1\n",
            "0 : 2\n",
            "0 : 3\n",
            "0 : 4\n",
            "0 : 5\n",
            "0 : 6\n",
            "0 : 7\n",
            "1 : 1\n",
            "1 : 2\n",
            "1 : 3\n",
            "1 : 4\n",
            "1 : 5\n",
            "1 : 6\n",
            "1 : 7\n",
            "2 : 2\n",
            "2 : 3\n",
            "2 : 4\n",
            "2 : 5\n",
            "2 : 6\n",
            "2 : 7\n",
            "3 : 3\n",
            "3 : 4\n",
            "3 : 5\n",
            "3 : 6\n",
            "3 : 7\n",
            "4 : 4\n",
            "4 : 5\n",
            "4 : 6\n",
            "4 : 7\n",
            "5 : 5\n",
            "5 : 6\n",
            "5 : 7\n",
            "6 : 6\n",
            "6 : 7\n",
            "7 : 7\n"
          ],
          "name": "stdout"
        }
      ]
    },
    {
      "cell_type": "code",
      "metadata": {
        "id": "Na2mvzgsHFpd",
        "colab": {
          "base_uri": "https://localhost:8080/",
          "height": 148
        },
        "outputId": "f0811f57-017c-4aad-a009-60e05d0d4626"
      },
      "source": [
        "for feature_corr in range(len(total_corr)):\n",
        "  print(\"{} : {}\".format(dataset.columns[feature_corr],total_corr[feature_corr]))"
      ],
      "execution_count": null,
      "outputs": [
        {
          "output_type": "stream",
          "text": [
            "address : [1.0, -0.040306603430984383, 0.1631011109906387, 0.011827127867104327, 0.28541539897245655, 0.11316432037537676, -0.000876275101302997, -0.0205345128802686]\n",
            "year : [1.0, 0.011919285649091685, 0.0008639762412572149, -0.0025377845987540823, 0.002565624366969112, 0.00018112259699026165, 0.0026275680241238048]\n",
            "day : [1.0, 0.00022836115982720223, 0.7034670508329549, 0.4116092274572861, 0.031523089139835654, 0.0004882058210412541]\n",
            "length : [1.0, 0.022312511934134957, 0.06164630525048874, 0.6919625578996685, 0.06977410384581713]\n",
            "weight : [1.0, 0.5603700276351703, 0.02544092727203195, -0.0036346768396950265]\n",
            "count : [1.0, 0.05282569935227837, 0.0025505823050875538]\n",
            "looped : [1.0, 0.13896603309383787]\n",
            "neighbors : [1.0]\n"
          ],
          "name": "stdout"
        }
      ]
    },
    {
      "cell_type": "code",
      "metadata": {
        "id": "_Epj640kJZII"
      },
      "source": [
        "feature_data = dataset.rdd.map(lambda row : row[0:])"
      ],
      "execution_count": null,
      "outputs": []
    },
    {
      "cell_type": "code",
      "metadata": {
        "id": "iYh6wSZuKkT1"
      },
      "source": [
        "data_sample = feature_data.take(1000)"
      ],
      "execution_count": null,
      "outputs": []
    },
    {
      "cell_type": "code",
      "metadata": {
        "id": "Vj4Iq4_3NKvS"
      },
      "source": [
        "from pyspark.ml.feature import StringIndexer"
      ],
      "execution_count": null,
      "outputs": []
    },
    {
      "cell_type": "code",
      "metadata": {
        "id": "OEpztCaZO93b"
      },
      "source": [
        "label = dataset.select('label')"
      ],
      "execution_count": null,
      "outputs": []
    },
    {
      "cell_type": "code",
      "metadata": {
        "id": "w9OdO1WeRD7c"
      },
      "source": [
        "encoder = StringIndexer(inputCol='label',outputCol='y').fit(label)"
      ],
      "execution_count": null,
      "outputs": []
    },
    {
      "cell_type": "code",
      "metadata": {
        "id": "5Mz2HNF1TJLa",
        "colab": {
          "base_uri": "https://localhost:8080/",
          "height": 444
        },
        "outputId": "eb629bdc-dffd-4ad0-8e28-6d3458cd9a99"
      },
      "source": [
        "encoder.transform(label).show()"
      ],
      "execution_count": null,
      "outputs": [
        {
          "output_type": "stream",
          "text": [
            "+--------------------+---+\n",
            "|               label|  y|\n",
            "+--------------------+---+\n",
            "|     princetonCerber|3.0|\n",
            "|      princetonLocky|4.0|\n",
            "|     princetonCerber|3.0|\n",
            "|     princetonCerber|3.0|\n",
            "|      princetonLocky|4.0|\n",
            "|      princetonLocky|4.0|\n",
            "|     princetonCerber|3.0|\n",
            "|     princetonCerber|3.0|\n",
            "|     princetonCerber|3.0|\n",
            "|      princetonLocky|4.0|\n",
            "|montrealCryptoLocker|2.0|\n",
            "|     princetonCerber|3.0|\n",
            "|    montrealCryptXXX|5.0|\n",
            "|     princetonCerber|3.0|\n",
            "|    montrealCryptXXX|5.0|\n",
            "|    montrealCryptXXX|5.0|\n",
            "|      princetonLocky|4.0|\n",
            "|      princetonLocky|4.0|\n",
            "|     princetonCerber|3.0|\n",
            "|      princetonLocky|4.0|\n",
            "+--------------------+---+\n",
            "only showing top 20 rows\n",
            "\n"
          ],
          "name": "stdout"
        }
      ]
    },
    {
      "cell_type": "code",
      "metadata": {
        "id": "Hx4K9lzOnlhx"
      },
      "source": [
        "features = dataset.drop('address')"
      ],
      "execution_count": null,
      "outputs": []
    },
    {
      "cell_type": "code",
      "metadata": {
        "id": "QfLt4ZKWsX35",
        "colab": {
          "base_uri": "https://localhost:8080/",
          "height": 444
        },
        "outputId": "06d03dfd-4330-4a68-c6ff-6342fd1876b0"
      },
      "source": [
        "features = features.drop('label') \n",
        "features.show()"
      ],
      "execution_count": null,
      "outputs": [
        {
          "output_type": "stream",
          "text": [
            "+------+-----+------+------------+------+------+---------+--------+\n",
            "|  year|  day|length|      weight| count|looped|neighbors|  income|\n",
            "+------+-----+------+------------+------+------+---------+--------+\n",
            "|2017.0| 11.0|  18.0| 0.008333334|   1.0|   0.0|      2.0|1.0005E8|\n",
            "|2016.0|132.0|  44.0|2.4414062E-4|   1.0|   0.0|      1.0|   1.0E8|\n",
            "|2016.0|246.0|   0.0|         1.0|   1.0|   0.0|      2.0|   2.0E8|\n",
            "|2016.0|322.0|  72.0|  0.00390625|   1.0|   0.0|      2.0|  7.12E7|\n",
            "|2016.0|238.0| 144.0|  0.07284841| 456.0|   0.0|      1.0|   2.0E8|\n",
            "|2016.0| 96.0| 144.0|    0.084614|2821.0|   0.0|      1.0|   5.0E7|\n",
            "|2016.0|225.0| 142.0|0.0020885186| 881.0|   0.0|      2.0|   1.0E8|\n",
            "|2016.0|324.0|  78.0|  0.00390625|   1.0|   0.0|      2.0|1.0099E8|\n",
            "|2016.0|298.0| 144.0|   2.3028283|4220.0|   0.0|      2.0|   8.0E7|\n",
            "|2016.0| 62.0| 112.0|3.7252903E-9|   1.0|   0.0|      1.0|   5.0E7|\n",
            "|2013.0|317.0|   4.0| 0.007142857|   2.0|   0.0|      1.0|   1.0E8|\n",
            "|2016.0|247.0|   0.0|         1.0|   1.0|   0.0|      2.0|1.0856E8|\n",
            "|2016.0|146.0| 144.0|   0.8774848|4817.0|   0.0|      1.0|1.0402E8|\n",
            "|2017.0|  3.0|   4.0|    0.015625|   1.0|   0.0|      2.0|   5.6E7|\n",
            "|2016.0|158.0|  56.0|3.0517578E-5|   1.0|   0.0|      1.0|   1.2E8|\n",
            "|2016.0|156.0|   8.0|        0.75|   2.0|   0.0|      4.0|   2.4E8|\n",
            "|2016.0|273.0| 144.0|0.0087467525|1168.0|   0.0|      1.0|   5.5E8|\n",
            "|2016.0| 56.0|   4.0|  0.14583333|   4.0|   0.0|      1.0|   5.0E8|\n",
            "|2016.0|165.0|  10.0| 0.011904762|   1.0|   0.0|      2.0|   2.0E8|\n",
            "|2016.0|109.0|   0.0|         0.5|   1.0|   0.0|      1.0|  1.01E8|\n",
            "+------+-----+------+------------+------+------+---------+--------+\n",
            "only showing top 20 rows\n",
            "\n"
          ],
          "name": "stdout"
        }
      ]
    },
    {
      "cell_type": "code",
      "metadata": {
        "id": "2V8kMaSvs0zY"
      },
      "source": [
        "from pyspark.mllib.feature import StandardScaler"
      ],
      "execution_count": null,
      "outputs": []
    },
    {
      "cell_type": "code",
      "metadata": {
        "id": "PoSi2T5mtOV2"
      },
      "source": [
        "col_names = features.columns\n",
        "features_rdd = features.rdd.map(lambda row: row[0:])\n",
        "scaler = StandardScaler(True,True).fit(features_rdd)\n",
        "scaled_features=scaler.transform(features_rdd)"
      ],
      "execution_count": null,
      "outputs": []
    },
    {
      "cell_type": "code",
      "metadata": {
        "id": "hmeEeofvurRP",
        "colab": {
          "base_uri": "https://localhost:8080/",
          "height": 52
        },
        "outputId": "a324019e-1d2b-4268-cec3-11cb1ee67309"
      },
      "source": [
        "print(scaled_features.take(10))"
      ],
      "execution_count": null,
      "outputs": [
        {
          "output_type": "stream",
          "text": [
            "[DenseVector([1.1185, -1.6388, -0.4579, -0.1462, -0.4265, -0.2468, -0.0115, -0.0268]), DenseVector([0.6756, -0.4755, -0.0171, -0.1484, -0.4265, -0.2468, -0.0673, -0.0268]), DenseVector([0.6756, 0.6205, -0.7631, 0.1237, -0.4265, -0.2468, -0.0115, -0.0262]), DenseVector([0.6756, 1.3512, 0.4576, -0.1474, -0.4265, -0.2468, -0.0115, -0.027]), DenseVector([0.6756, 0.5436, 1.6783, -0.1286, -0.1572, -0.2468, -0.0673, -0.0262]), DenseVector([0.6756, -0.8216, 1.6783, -0.1254, 1.2425, -0.2468, -0.0673, -0.0271]), DenseVector([0.6756, 0.4186, 1.6444, -0.1479, 0.0943, -0.2468, -0.0115, -0.0268]), DenseVector([0.6756, 1.3704, 0.5593, -0.1474, -0.4265, -0.2468, -0.0115, -0.0268]), DenseVector([0.6756, 1.1205, 1.6783, 0.4783, 2.0704, -0.2468, -0.0115, -0.027]), DenseVector([0.6756, -1.1485, 1.1358, -0.1485, -0.4265, -0.2468, -0.0673, -0.0271])]\n"
          ],
          "name": "stdout"
        }
      ]
    },
    {
      "cell_type": "code",
      "metadata": {
        "id": "oLnnXAb-Gnc5",
        "colab": {
          "base_uri": "https://localhost:8080/",
          "height": 444
        },
        "outputId": "943fe4da-7fed-4753-eecf-db7ef76ea3fc"
      },
      "source": [
        "from pyspark.ml.linalg import Vectors\n",
        "from pyspark.ml.feature import VectorAssembler\n",
        " \n",
        "feat_cols = ['year','day', 'length',\n",
        "'weight', 'count','looped','neighbors','income']\n",
        " \n",
        "vec_assembler = VectorAssembler(inputCols = feat_cols, outputCol='features_unscaled')\n",
        " \n",
        "final_data = vec_assembler.transform(features)\n",
        "final_data.show()"
      ],
      "execution_count": null,
      "outputs": [
        {
          "output_type": "stream",
          "text": [
            "+------+-----+------+------------+------+------+---------+--------+--------------------+\n",
            "|  year|  day|length|      weight| count|looped|neighbors|  income|   features_unscaled|\n",
            "+------+-----+------+------------+------+------+---------+--------+--------------------+\n",
            "|2017.0| 11.0|  18.0| 0.008333334|   1.0|   0.0|      2.0|1.0005E8|[2017.0,11.0,18.0...|\n",
            "|2016.0|132.0|  44.0|2.4414062E-4|   1.0|   0.0|      1.0|   1.0E8|[2016.0,132.0,44....|\n",
            "|2016.0|246.0|   0.0|         1.0|   1.0|   0.0|      2.0|   2.0E8|[2016.0,246.0,0.0...|\n",
            "|2016.0|322.0|  72.0|  0.00390625|   1.0|   0.0|      2.0|  7.12E7|[2016.0,322.0,72....|\n",
            "|2016.0|238.0| 144.0|  0.07284841| 456.0|   0.0|      1.0|   2.0E8|[2016.0,238.0,144...|\n",
            "|2016.0| 96.0| 144.0|    0.084614|2821.0|   0.0|      1.0|   5.0E7|[2016.0,96.0,144....|\n",
            "|2016.0|225.0| 142.0|0.0020885186| 881.0|   0.0|      2.0|   1.0E8|[2016.0,225.0,142...|\n",
            "|2016.0|324.0|  78.0|  0.00390625|   1.0|   0.0|      2.0|1.0099E8|[2016.0,324.0,78....|\n",
            "|2016.0|298.0| 144.0|   2.3028283|4220.0|   0.0|      2.0|   8.0E7|[2016.0,298.0,144...|\n",
            "|2016.0| 62.0| 112.0|3.7252903E-9|   1.0|   0.0|      1.0|   5.0E7|[2016.0,62.0,112....|\n",
            "|2013.0|317.0|   4.0| 0.007142857|   2.0|   0.0|      1.0|   1.0E8|[2013.0,317.0,4.0...|\n",
            "|2016.0|247.0|   0.0|         1.0|   1.0|   0.0|      2.0|1.0856E8|[2016.0,247.0,0.0...|\n",
            "|2016.0|146.0| 144.0|   0.8774848|4817.0|   0.0|      1.0|1.0402E8|[2016.0,146.0,144...|\n",
            "|2017.0|  3.0|   4.0|    0.015625|   1.0|   0.0|      2.0|   5.6E7|[2017.0,3.0,4.0,0...|\n",
            "|2016.0|158.0|  56.0|3.0517578E-5|   1.0|   0.0|      1.0|   1.2E8|[2016.0,158.0,56....|\n",
            "|2016.0|156.0|   8.0|        0.75|   2.0|   0.0|      4.0|   2.4E8|[2016.0,156.0,8.0...|\n",
            "|2016.0|273.0| 144.0|0.0087467525|1168.0|   0.0|      1.0|   5.5E8|[2016.0,273.0,144...|\n",
            "|2016.0| 56.0|   4.0|  0.14583333|   4.0|   0.0|      1.0|   5.0E8|[2016.0,56.0,4.0,...|\n",
            "|2016.0|165.0|  10.0| 0.011904762|   1.0|   0.0|      2.0|   2.0E8|[2016.0,165.0,10....|\n",
            "|2016.0|109.0|   0.0|         0.5|   1.0|   0.0|      1.0|  1.01E8|[2016.0,109.0,0.0...|\n",
            "+------+-----+------+------------+------+------+---------+--------+--------------------+\n",
            "only showing top 20 rows\n",
            "\n"
          ],
          "name": "stdout"
        }
      ]
    },
    {
      "cell_type": "code",
      "metadata": {
        "id": "zYAznnuQjTuk"
      },
      "source": [
        "from pyspark.ml.stat import Correlation\n",
        "\n",
        "# Get correlation DataFrame, collect and extract a pyspark.mllib.linalg.DenseMatrix, convert to array \n",
        "corr_mat = Correlation.corr(final_data, 'features_unscaled').collect()[0][0].toArray()"
      ],
      "execution_count": null,
      "outputs": []
    },
    {
      "cell_type": "code",
      "metadata": {
        "id": "nK98V3JZjTrz",
        "colab": {
          "base_uri": "https://localhost:8080/",
          "height": 271
        },
        "outputId": "0e80fed4-3cdd-449e-fd6a-7c136192bd5f"
      },
      "source": [
        "import pandas as pd\n",
        "corr_mat = pd.DataFrame(corr_mat, index=feat_cols, columns=feat_cols)\n",
        "corr_mat.head(len(feat_cols))\n"
      ],
      "execution_count": null,
      "outputs": [
        {
          "output_type": "execute_result",
          "data": {
            "text/html": [
              "<div>\n",
              "<style scoped>\n",
              "    .dataframe tbody tr th:only-of-type {\n",
              "        vertical-align: middle;\n",
              "    }\n",
              "\n",
              "    .dataframe tbody tr th {\n",
              "        vertical-align: top;\n",
              "    }\n",
              "\n",
              "    .dataframe thead th {\n",
              "        text-align: right;\n",
              "    }\n",
              "</style>\n",
              "<table border=\"1\" class=\"dataframe\">\n",
              "  <thead>\n",
              "    <tr style=\"text-align: right;\">\n",
              "      <th></th>\n",
              "      <th>year</th>\n",
              "      <th>day</th>\n",
              "      <th>length</th>\n",
              "      <th>weight</th>\n",
              "      <th>count</th>\n",
              "      <th>looped</th>\n",
              "      <th>neighbors</th>\n",
              "      <th>income</th>\n",
              "    </tr>\n",
              "  </thead>\n",
              "  <tbody>\n",
              "    <tr>\n",
              "      <th>year</th>\n",
              "      <td>1.000000</td>\n",
              "      <td>-0.040307</td>\n",
              "      <td>0.163101</td>\n",
              "      <td>0.011827</td>\n",
              "      <td>0.285415</td>\n",
              "      <td>0.113164</td>\n",
              "      <td>-0.000876</td>\n",
              "      <td>-0.020535</td>\n",
              "    </tr>\n",
              "    <tr>\n",
              "      <th>day</th>\n",
              "      <td>-0.040307</td>\n",
              "      <td>1.000000</td>\n",
              "      <td>0.011919</td>\n",
              "      <td>0.000864</td>\n",
              "      <td>-0.002538</td>\n",
              "      <td>0.002566</td>\n",
              "      <td>0.000181</td>\n",
              "      <td>0.002628</td>\n",
              "    </tr>\n",
              "    <tr>\n",
              "      <th>length</th>\n",
              "      <td>0.163101</td>\n",
              "      <td>0.011919</td>\n",
              "      <td>1.000000</td>\n",
              "      <td>0.000228</td>\n",
              "      <td>0.703467</td>\n",
              "      <td>0.411609</td>\n",
              "      <td>0.031523</td>\n",
              "      <td>0.000488</td>\n",
              "    </tr>\n",
              "    <tr>\n",
              "      <th>weight</th>\n",
              "      <td>0.011827</td>\n",
              "      <td>0.000864</td>\n",
              "      <td>0.000228</td>\n",
              "      <td>1.000000</td>\n",
              "      <td>0.022313</td>\n",
              "      <td>0.061646</td>\n",
              "      <td>0.691963</td>\n",
              "      <td>0.069774</td>\n",
              "    </tr>\n",
              "    <tr>\n",
              "      <th>count</th>\n",
              "      <td>0.285415</td>\n",
              "      <td>-0.002538</td>\n",
              "      <td>0.703467</td>\n",
              "      <td>0.022313</td>\n",
              "      <td>1.000000</td>\n",
              "      <td>0.560370</td>\n",
              "      <td>0.025441</td>\n",
              "      <td>-0.003635</td>\n",
              "    </tr>\n",
              "    <tr>\n",
              "      <th>looped</th>\n",
              "      <td>0.113164</td>\n",
              "      <td>0.002566</td>\n",
              "      <td>0.411609</td>\n",
              "      <td>0.061646</td>\n",
              "      <td>0.560370</td>\n",
              "      <td>1.000000</td>\n",
              "      <td>0.052826</td>\n",
              "      <td>0.002551</td>\n",
              "    </tr>\n",
              "    <tr>\n",
              "      <th>neighbors</th>\n",
              "      <td>-0.000876</td>\n",
              "      <td>0.000181</td>\n",
              "      <td>0.031523</td>\n",
              "      <td>0.691963</td>\n",
              "      <td>0.025441</td>\n",
              "      <td>0.052826</td>\n",
              "      <td>1.000000</td>\n",
              "      <td>0.138966</td>\n",
              "    </tr>\n",
              "    <tr>\n",
              "      <th>income</th>\n",
              "      <td>-0.020535</td>\n",
              "      <td>0.002628</td>\n",
              "      <td>0.000488</td>\n",
              "      <td>0.069774</td>\n",
              "      <td>-0.003635</td>\n",
              "      <td>0.002551</td>\n",
              "      <td>0.138966</td>\n",
              "      <td>1.000000</td>\n",
              "    </tr>\n",
              "  </tbody>\n",
              "</table>\n",
              "</div>"
            ],
            "text/plain": [
              "               year       day    length  ...    looped  neighbors    income\n",
              "year       1.000000 -0.040307  0.163101  ...  0.113164  -0.000876 -0.020535\n",
              "day       -0.040307  1.000000  0.011919  ...  0.002566   0.000181  0.002628\n",
              "length     0.163101  0.011919  1.000000  ...  0.411609   0.031523  0.000488\n",
              "weight     0.011827  0.000864  0.000228  ...  0.061646   0.691963  0.069774\n",
              "count      0.285415 -0.002538  0.703467  ...  0.560370   0.025441 -0.003635\n",
              "looped     0.113164  0.002566  0.411609  ...  1.000000   0.052826  0.002551\n",
              "neighbors -0.000876  0.000181  0.031523  ...  0.052826   1.000000  0.138966\n",
              "income    -0.020535  0.002628  0.000488  ...  0.002551   0.138966  1.000000\n",
              "\n",
              "[8 rows x 8 columns]"
            ]
          },
          "metadata": {
            "tags": []
          },
          "execution_count": 37
        }
      ]
    },
    {
      "cell_type": "code",
      "metadata": {
        "id": "n0inXlE2F9A6"
      },
      "source": [
        "from itertools import cycle, islice\n",
        "from math import sqrt\n",
        "from numpy import array\n",
        "#from pandas.tools.plotting import parallel_coordinates\n",
        "from pyspark.ml.clustering import KMeans\n",
        "from pyspark.mllib.linalg import DenseVector\n",
        "import matplotlib.pyplot as plt\n",
        "import matplotlib\n",
        "import numpy as np\n",
        "import pandas as pd"
      ],
      "execution_count": null,
      "outputs": []
    },
    {
      "cell_type": "code",
      "metadata": {
        "id": "M1adPZ8_BUAZ"
      },
      "source": [
        "def computeCost(featuresAndPrediction, model):\n",
        "    allClusterCenters = [DenseVector(c) for c in model.clusterCenters()]\n",
        "    arrayCollection   = featuresAndPrediction.rdd.map(array)\n",
        "\n",
        "    def error(point, predictedCluster):\n",
        "        center = allClusterCenters[predictedCluster]\n",
        "        z      = point - center\n",
        "        return sqrt((z*z).sum())\n",
        "    \n",
        "    return arrayCollection.map(lambda row: error(row[0], row[1])).reduce(lambda x, y: x + y)"
      ],
      "execution_count": null,
      "outputs": []
    },
    {
      "cell_type": "code",
      "metadata": {
        "id": "kUz_eWPZ8rxb"
      },
      "source": [
        "def elbow(elbowset, clusters):\n",
        "    wsseList = []\t\n",
        "    for k in clusters:\n",
        "        print(\"Training for cluster size {} \".format(k))\n",
        "        kmeans = KMeans(k = k, seed = 1)\n",
        "        model = kmeans.fit(elbowset)\n",
        "        transformed = model.transform(elbowset)\n",
        "        featuresAndPrediction = transformed.select(\"features\", \"prediction\")\n",
        "\n",
        "        W = computeCost(featuresAndPrediction, model)\n",
        "        print(\"......................WSSE = {} \".format(W))\n",
        "\n",
        "        wsseList.append(W)\n",
        "    return wsseList\n",
        "\n",
        "def elbow_plot(wsseList, clusters):\n",
        "    wsseDF = pd.DataFrame({'WSSE' : wsseList, 'k' : clusters })\n",
        "    wsseDF.plot(y='WSSE', x='k', figsize=(15,10), grid=True, marker='o')"
      ],
      "execution_count": null,
      "outputs": []
    },
    {
      "cell_type": "code",
      "metadata": {
        "id": "vCV3IYue8sLo"
      },
      "source": [
        ""
      ],
      "execution_count": null,
      "outputs": []
    },
    {
      "cell_type": "code",
      "metadata": {
        "id": "D3V7MN_J2U22",
        "colab": {
          "base_uri": "https://localhost:8080/",
          "height": 82
        },
        "outputId": "29c23d1b-afd0-4061-e8e1-a551edf8806b"
      },
      "source": [
        "!pip install utils"
      ],
      "execution_count": null,
      "outputs": [
        {
          "output_type": "stream",
          "text": [
            "Collecting utils\n",
            "  Downloading https://files.pythonhosted.org/packages/55/e6/c2d2b2703e7debc8b501caae0e6f7ead148fd0faa3c8131292a599930029/utils-1.0.1-py2.py3-none-any.whl\n",
            "Installing collected packages: utils\n",
            "Successfully installed utils-1.0.1\n"
          ],
          "name": "stdout"
        }
      ]
    },
    {
      "cell_type": "code",
      "metadata": {
        "id": "-VuWvWuI3qdF",
        "colab": {
          "base_uri": "https://localhost:8080/",
          "height": 32
        },
        "outputId": "5049ac37-094c-4655-d706-b70ba581cb10"
      },
      "source": [
        "train_df, test_df = final_data.randomSplit([0.75, 0.25], seed=12345)\n",
        "train_df.count(), test_df.count()\n"
      ],
      "execution_count": null,
      "outputs": [
        {
          "output_type": "execute_result",
          "data": {
            "text/plain": [
              "(2187030, 729667)"
            ]
          },
          "metadata": {
            "tags": []
          },
          "execution_count": 29
        }
      ]
    },
    {
      "cell_type": "code",
      "metadata": {
        "id": "ndhKdQZi3qgx"
      },
      "source": [
        "from pyspark.ml.feature import StandardScaler\n",
        "\n",
        "scaler = StandardScaler(inputCol=\"features_unscaled\", outputCol=\"features\", withStd=True, withMean=True)\n",
        "scalerModel = scaler.fit(train_df)\n",
        "\n",
        "train_df = scalerModel.transform(train_df)\n",
        "test_df = scalerModel.transform(test_df)\n"
      ],
      "execution_count": null,
      "outputs": []
    },
    {
      "cell_type": "code",
      "metadata": {
        "id": "8BP3HDex3qoF",
        "colab": {
          "base_uri": "https://localhost:8080/",
          "height": 1000
        },
        "outputId": "bde44b5a-1a55-449a-f5dc-d3089c883a32"
      },
      "source": [
        "create_elbow_plot = True # Set to False if already know value for k\n",
        "\n",
        "if create_elbow_plot == True:\n",
        "    # lower the sample fraction to decrease fit time (with the risk of worse results)\n",
        "    sampled = train_df.sample(.5)\n",
        "\n",
        "    k_attempts = range(3,30)\n",
        "    print('Trying k from {} to {} with {} samples...\\n'.format(list(k_attempts)[0],\n",
        "                                                               list(k_attempts)[-1],\n",
        "                                                               sampled.count()))\n",
        "\n",
        "    wsseList = elbow(sampled, k_attempts)\n",
        "    elbow_plot(wsseList, k_attempts)\n",
        "\n",
        "#cost = np.zeros(20)\n",
        "#for k in range(2,20):\n",
        "    #kmeans = KMeans().setK(k).setSeed(1).setFeaturesCol(\"features\")\n",
        "    #model = kmeans.fit(df_kmeans.sample(False,0.1, seed=42))\n",
        "    #cost[k] = model.computeCost(df_kmeans)\n",
        "\n",
        "#fig, ax = plt.subplots(1,1, figsize =(8,6))\n",
        "#ax.plot(range(2,20),cost[2:20])\n",
        "#ax.set_xlabel('k')\n",
        "\n",
        "#ax.set_ylabel('cost')"
      ],
      "execution_count": null,
      "outputs": [
        {
          "output_type": "stream",
          "text": [
            "Trying k from 3 to 29 with 1094418 samples...\n",
            "\n",
            "Training for cluster size 3 \n",
            "......................WSSE = 1829930.4835065021 \n",
            "Training for cluster size 4 \n",
            "......................WSSE = 1402814.7598745856 \n",
            "Training for cluster size 5 \n",
            "......................WSSE = 1399779.7216525697 \n",
            "Training for cluster size 6 \n",
            "......................WSSE = 1459274.4009020287 \n",
            "Training for cluster size 7 \n",
            "......................WSSE = 1373014.1788052516 \n",
            "Training for cluster size 8 \n",
            "......................WSSE = 1194559.139400288 \n",
            "Training for cluster size 9 \n",
            "......................WSSE = 1149876.6859336945 \n",
            "Training for cluster size 10 \n",
            "......................WSSE = 1275329.0713250812 \n",
            "Training for cluster size 11 \n",
            "......................WSSE = 1075855.9158061347 \n",
            "Training for cluster size 12 \n",
            "......................WSSE = 1078958.265511252 \n",
            "Training for cluster size 13 \n",
            "......................WSSE = 1074341.5807136851 \n",
            "Training for cluster size 14 \n",
            "......................WSSE = 1124693.0744623824 \n",
            "Training for cluster size 15 \n",
            "......................WSSE = 935765.0593731217 \n",
            "Training for cluster size 16 \n",
            "......................WSSE = 939724.5234214249 \n",
            "Training for cluster size 17 \n",
            "......................WSSE = 939501.6025492861 \n",
            "Training for cluster size 18 \n",
            "......................WSSE = 929793.4732419061 \n",
            "Training for cluster size 19 \n",
            "......................WSSE = 881998.4089250639 \n",
            "Training for cluster size 20 \n",
            "......................WSSE = 886574.6257824941 \n",
            "Training for cluster size 21 \n",
            "......................WSSE = 850467.5093072508 \n",
            "Training for cluster size 22 \n",
            "......................WSSE = 916109.9297621578 \n",
            "Training for cluster size 23 \n",
            "......................WSSE = 847010.3711214461 \n",
            "Training for cluster size 24 \n",
            "......................WSSE = 852690.1117710801 \n",
            "Training for cluster size 25 \n",
            "......................WSSE = 766192.2974111347 \n",
            "Training for cluster size 26 \n",
            "......................WSSE = 825822.314340946 \n",
            "Training for cluster size 27 \n",
            "......................WSSE = 772962.3168033895 \n",
            "Training for cluster size 28 \n",
            "......................WSSE = 768839.9345539975 \n",
            "Training for cluster size 29 \n",
            "......................WSSE = 778392.75432052 \n"
          ],
          "name": "stdout"
        },
        {
          "output_type": "display_data",
          "data": {
            "image/png": "[encoded data removed]",
            "text/plain": [
              "<Figure size 1080x720 with 1 Axes>"
            ]
          },
          "metadata": {
            "tags": [],
            "needs_background": "light"
          }
        }
      ]
    },
    {
      "cell_type": "code",
      "metadata": {
        "id": "ArenCYCCcun3",
        "colab": {
          "base_uri": "https://localhost:8080/",
          "height": 32
        },
        "outputId": "55391297-2cf4-4ffe-c52f-a4df9aa3a4f1"
      },
      "source": [
        "import time\n",
        "from pyspark.ml.clustering import KMeans\n",
        "st=time.time()\n",
        "kmeans = KMeans(k=10)\n",
        "model = kmeans.fit(train_df)\n",
        "print(\"Time Taken to fit the model:\"+ str(time.time()-st))"
      ],
      "execution_count": null,
      "outputs": [
        {
          "output_type": "stream",
          "text": [
            "Time Taken to fit the model:136.95307993888855\n"
          ],
          "name": "stdout"
        }
      ]
    },
    {
      "cell_type": "code",
      "metadata": {
        "id": "dbsiLEej3qu4",
        "colab": {
          "base_uri": "https://localhost:8080/",
          "height": 691
        },
        "outputId": "3b2cb22b-edae-462f-a7c1-6ad2e6238be2"
      },
      "source": [
        "from pyspark.ml.clustering import KMeans\n",
        "\n",
        "K = 10\n",
        "kmeans = KMeans(k=K)\n",
        "model = kmeans.fit(train_df)\n",
        "centers = model.clusterCenters()\n",
        "\n",
        "\n",
        "print(\"Cluster Centers: \")\n",
        "for center in centers:\n",
        "    print(\"\\n\")\n",
        "    print(center)"
      ],
      "execution_count": null,
      "outputs": [
        {
          "output_type": "stream",
          "text": [
            "Cluster Centers: \n",
            "\n",
            "\n",
            "[-1.09059142  0.05191727 -0.53099488 -0.02374296 -0.42164539 -0.24586448\n",
            " -0.02518789  0.01279792]\n",
            "\n",
            "\n",
            "[ 0.11135005  0.04384265  1.67302089  0.02402257  1.2543845   2.3343419\n",
            "  0.08739254 -0.01321232]\n",
            "\n",
            "\n",
            "[1.56204842e+00 2.16734998e-01 1.67814939e+00 4.89152839e+02\n",
            " 2.41813724e+00 4.72285740e+00 5.59311116e+02 3.79359246e+01]\n",
            "\n",
            "\n",
            "[ 0.62803633 -0.9747406  -0.5821587   0.00632885 -0.42545475 -0.24649773\n",
            " -0.01743181 -0.01506865]\n",
            "\n",
            "\n",
            "[ 1.16819010e+00 -1.19786992e-01  8.86985841e-01  2.33097902e+02\n",
            "  2.79516012e+00  5.37989405e+00  5.74316765e+01  3.99627075e+00]\n",
            "\n",
            "\n",
            "[-0.00360111  0.02475882  1.59231134 -0.05174862  0.31040499 -0.06491851\n",
            " -0.00240366 -0.00522092]\n",
            "\n",
            "\n",
            "[ 9.79392351e-01  3.47882529e-02  1.67131830e+00  2.54649116e-01\n",
            "  3.61181755e+00  6.25688627e+00  1.19235706e-01 -1.89165234e-03]\n",
            "\n",
            "\n",
            "[ 1.10279234 -0.02421957  1.65230827 -0.04810357  2.78669526 -0.21646404\n",
            " -0.02028593 -0.01881686]\n",
            "\n",
            "\n",
            "[ 0.72019695  0.8859254  -0.58286003  0.00990222 -0.42566059 -0.24657291\n",
            " -0.01639159 -0.01756854]\n",
            "\n",
            "\n",
            "[-0.50143553  0.0786696   1.24903424 23.2873817   0.91551935  2.06808577\n",
            " 29.88481605 14.66997354]\n"
          ],
          "name": "stdout"
        }
      ]
    },
    {
      "cell_type": "code",
      "metadata": {
        "id": "Ut9Nwrj-cPvJ",
        "colab": {
          "base_uri": "https://localhost:8080/",
          "height": 32
        },
        "outputId": "ccfe7545-d2fb-4dc7-bd62-b0e154354b10"
      },
      "source": [
        "from pyspark.ml.evaluation import ClusteringEvaluator\n",
        "predictions = model.transform(train_df)\n",
        "evaluator = ClusteringEvaluator()\n",
        "silhouette = evaluator.evaluate(predictions)\n",
        "print(\"Silhouette with squared euclidean distance = \" + str(silhouette))"
      ],
      "execution_count": null,
      "outputs": [
        {
          "output_type": "stream",
          "text": [
            "Silhouette with squared euclidean distance = 0.45835131732693407\n"
          ],
          "name": "stdout"
        }
      ]
    },
    {
      "cell_type": "code",
      "metadata": {
        "id": "4vKnNoOQmk9G"
      },
      "source": [
        "from pyspark.ml.evaluation import ClusteringEvaluator\n",
        "cost = list()\n",
        "evaluator = ClusteringEvaluator()\n",
        "for k in range(2,15):\n",
        "    bkm = KMeans().setK(k).setSeed(1).setFeaturesCol(\"features\")\n",
        "    bkm_model = bkm.fit(train_df)\n",
        "    tags_predictions = bkm_model.transform(train_df)\n",
        "    silhouette = evaluator.evaluate(predictions)\n",
        "    cost.append(silhouette)\n",
        "    \n",
        "kIdx = np.argmax(cost)\n",
        "\n",
        "fig, ax = plt.subplots()\n",
        "plt.plot(range(2,15), cost, 'b*-')\n",
        "plt.plot(range(2,15)[kIdx], cost[kIdx], marker='o', markersize=12, \n",
        "         markeredgewidth=2, markeredgecolor='r', markerfacecolor='None')\n",
        "plt.xlim(1, plt.xlim()[1])\n",
        "plt.xlabel('Number of clusters')\n",
        "plt.ylabel('Silhouette Coefficient')\n",
        "plt.title('Silhouette Scores for k-means clustering')\n",
        "display(fig)"
      ],
      "execution_count": null,
      "outputs": []
    },
    {
      "cell_type": "code",
      "metadata": {
        "id": "25qEV-rhlDdz"
      },
      "source": [
        "silhouette_coefficients = []\n",
        "for k in range(2, 11):\n",
        "  #evaluator = ClusteringEvaluator()\n",
        "  silhouette = evaluator.evaluate(predictions)\n",
        "silhouette_coefficients.append(silhouette)\n",
        "plt.plot(range(2, 11), silhouette_coefficients, 'bx-')\n",
        "plt.xlabel(\"No of Clusters\")\n",
        "plt.ylabel(\"Silhouette Coefficient\")\n",
        "plt.show()"
      ],
      "execution_count": null,
      "outputs": []
    },
    {
      "cell_type": "code",
      "metadata": {
        "id": "C9IHS7LAmAva"
      },
      "source": [
        ""
      ],
      "execution_count": null,
      "outputs": []
    },
    {
      "cell_type": "code",
      "metadata": {
        "id": "qBtapMGmU6-u",
        "colab": {
          "base_uri": "https://localhost:8080/",
          "height": 52
        },
        "outputId": "a1661ce8-e13d-4a56-f763-651cd2c76003"
      },
      "source": [
        "transformed = model.transform(train_df).select('year','day', 'length','weight', 'count','looped','neighbors','income', 'prediction')\n",
        "#transformed = model.transform(test_df).select('year', 'prediction')\n",
        "rows = transformed.collect()\n",
        "print(rows[:2])"
      ],
      "execution_count": null,
      "outputs": [
        {
          "output_type": "stream",
          "text": [
            "[Row(year=2011.0, day=1.0, length=0.0, weight=0.5, count=1.0, looped=0.0, neighbors=1.0, income=43000000.0, prediction=0), Row(year=2011.0, day=1.0, length=0.0, weight=0.5, count=1.0, looped=0.0, neighbors=1.0, income=43000000.0, prediction=0)]\n"
          ],
          "name": "stdout"
        }
      ]
    },
    {
      "cell_type": "code",
      "metadata": {
        "id": "KmT7is0vU7CZ",
        "colab": {
          "base_uri": "https://localhost:8080/",
          "height": 444
        },
        "outputId": "c7dd93a2-5b5f-49ba-e5ec-1d3b6c11ec3c"
      },
      "source": [
        "from pyspark.sql import SQLContext\n",
        "df_pred = spark.createDataFrame(rows)\n",
        "df_pred.show()"
      ],
      "execution_count": null,
      "outputs": [
        {
          "output_type": "stream",
          "text": [
            "+------+---+------+------+-----+------+---------+-------------+----------+\n",
            "|  year|day|length|weight|count|looped|neighbors|       income|prediction|\n",
            "+------+---+------+------+-----+------+---------+-------------+----------+\n",
            "|2011.0|1.0|   0.0|   0.5|  1.0|   0.0|      1.0|        4.3E7|         0|\n",
            "|2011.0|1.0|   0.0|   0.5|  1.0|   0.0|      1.0|        4.3E7|         0|\n",
            "|2011.0|1.0|   0.0|   0.5|  1.0|   0.0|      1.0|        4.6E7|         0|\n",
            "|2011.0|1.0|   0.0|   0.5|  1.0|   0.0|      1.0|        9.0E7|         0|\n",
            "|2011.0|1.0|   0.0|   0.5|  1.0|   0.0|      1.0|        1.0E8|         0|\n",
            "|2011.0|1.0|   0.0|   0.5|  1.0|   0.0|      1.0|        1.0E8|         0|\n",
            "|2011.0|1.0|   0.0|   0.5|  1.0|   0.0|      1.0|       1.01E8|         0|\n",
            "|2011.0|1.0|   0.0|   0.5|  1.0|   0.0|      1.0|       1.26E8|         0|\n",
            "|2011.0|1.0|   0.0|   0.5|  1.0|   0.0|      1.0|        2.0E8|         0|\n",
            "|2011.0|1.0|   0.0|   0.5|  1.0|   0.0|      1.0|        4.1E8|         0|\n",
            "|2011.0|1.0|   0.0|   0.5|  1.0|   0.0|      1.0|       6.25E8|         0|\n",
            "|2011.0|1.0|   0.0|   0.5|  1.0|   0.0|      1.0|       6.25E8|         0|\n",
            "|2011.0|1.0|   0.0|   0.5|  1.0|   0.0|      1.0|        1.5E9|         0|\n",
            "|2011.0|1.0|   0.0|   0.5|  1.0|   0.0|      1.0|        1.6E9|         0|\n",
            "|2011.0|1.0|   0.0|   0.5|  1.0|   0.0|      1.0|        2.0E9|         0|\n",
            "|2011.0|1.0|   0.0|   0.5|  1.0|   0.0|      1.0|        2.4E9|         0|\n",
            "|2011.0|1.0|   0.0|   0.5|  1.0|   0.0|      1.0|        3.0E9|         0|\n",
            "|2011.0|1.0|   0.0|   0.5|  1.0|   0.0|      1.0|4.375000064E9|         0|\n",
            "|2011.0|1.0|   0.0|   0.5|  1.0|   0.0|      1.0|4.835999744E9|         0|\n",
            "|2011.0|1.0|   0.0|   0.5|  1.0|   0.0|      1.0|4.899999744E9|         0|\n",
            "+------+---+------+------+-----+------+---------+-------------+----------+\n",
            "only showing top 20 rows\n",
            "\n"
          ],
          "name": "stdout"
        }
      ]
    },
    {
      "cell_type": "code",
      "metadata": {
        "id": "89mk8WOsbINI",
        "colab": {
          "base_uri": "https://localhost:8080/",
          "height": 328
        },
        "outputId": "0b239a8e-d99f-457a-c045-771a63ce4479"
      },
      "source": [
        "pddf_pred = df_pred.toPandas()\n",
        "pddf_pred.head(10)"
      ],
      "execution_count": null,
      "outputs": [
        {
          "output_type": "execute_result",
          "data": {
            "text/html": [
              "<div>\n",
              "<style scoped>\n",
              "    .dataframe tbody tr th:only-of-type {\n",
              "        vertical-align: middle;\n",
              "    }\n",
              "\n",
              "    .dataframe tbody tr th {\n",
              "        vertical-align: top;\n",
              "    }\n",
              "\n",
              "    .dataframe thead th {\n",
              "        text-align: right;\n",
              "    }\n",
              "</style>\n",
              "<table border=\"1\" class=\"dataframe\">\n",
              "  <thead>\n",
              "    <tr style=\"text-align: right;\">\n",
              "      <th></th>\n",
              "      <th>year</th>\n",
              "      <th>day</th>\n",
              "      <th>length</th>\n",
              "      <th>weight</th>\n",
              "      <th>count</th>\n",
              "      <th>looped</th>\n",
              "      <th>neighbors</th>\n",
              "      <th>income</th>\n",
              "      <th>prediction</th>\n",
              "    </tr>\n",
              "  </thead>\n",
              "  <tbody>\n",
              "    <tr>\n",
              "      <th>0</th>\n",
              "      <td>2011.0</td>\n",
              "      <td>1.0</td>\n",
              "      <td>0.0</td>\n",
              "      <td>0.5</td>\n",
              "      <td>1.0</td>\n",
              "      <td>0.0</td>\n",
              "      <td>1.0</td>\n",
              "      <td>43000000.0</td>\n",
              "      <td>0</td>\n",
              "    </tr>\n",
              "    <tr>\n",
              "      <th>1</th>\n",
              "      <td>2011.0</td>\n",
              "      <td>1.0</td>\n",
              "      <td>0.0</td>\n",
              "      <td>0.5</td>\n",
              "      <td>1.0</td>\n",
              "      <td>0.0</td>\n",
              "      <td>1.0</td>\n",
              "      <td>43000000.0</td>\n",
              "      <td>0</td>\n",
              "    </tr>\n",
              "    <tr>\n",
              "      <th>2</th>\n",
              "      <td>2011.0</td>\n",
              "      <td>1.0</td>\n",
              "      <td>0.0</td>\n",
              "      <td>0.5</td>\n",
              "      <td>1.0</td>\n",
              "      <td>0.0</td>\n",
              "      <td>1.0</td>\n",
              "      <td>46000000.0</td>\n",
              "      <td>0</td>\n",
              "    </tr>\n",
              "    <tr>\n",
              "      <th>3</th>\n",
              "      <td>2011.0</td>\n",
              "      <td>1.0</td>\n",
              "      <td>0.0</td>\n",
              "      <td>0.5</td>\n",
              "      <td>1.0</td>\n",
              "      <td>0.0</td>\n",
              "      <td>1.0</td>\n",
              "      <td>90000000.0</td>\n",
              "      <td>0</td>\n",
              "    </tr>\n",
              "    <tr>\n",
              "      <th>4</th>\n",
              "      <td>2011.0</td>\n",
              "      <td>1.0</td>\n",
              "      <td>0.0</td>\n",
              "      <td>0.5</td>\n",
              "      <td>1.0</td>\n",
              "      <td>0.0</td>\n",
              "      <td>1.0</td>\n",
              "      <td>100000000.0</td>\n",
              "      <td>0</td>\n",
              "    </tr>\n",
              "    <tr>\n",
              "      <th>5</th>\n",
              "      <td>2011.0</td>\n",
              "      <td>1.0</td>\n",
              "      <td>0.0</td>\n",
              "      <td>0.5</td>\n",
              "      <td>1.0</td>\n",
              "      <td>0.0</td>\n",
              "      <td>1.0</td>\n",
              "      <td>100000000.0</td>\n",
              "      <td>0</td>\n",
              "    </tr>\n",
              "    <tr>\n",
              "      <th>6</th>\n",
              "      <td>2011.0</td>\n",
              "      <td>1.0</td>\n",
              "      <td>0.0</td>\n",
              "      <td>0.5</td>\n",
              "      <td>1.0</td>\n",
              "      <td>0.0</td>\n",
              "      <td>1.0</td>\n",
              "      <td>101000000.0</td>\n",
              "      <td>0</td>\n",
              "    </tr>\n",
              "    <tr>\n",
              "      <th>7</th>\n",
              "      <td>2011.0</td>\n",
              "      <td>1.0</td>\n",
              "      <td>0.0</td>\n",
              "      <td>0.5</td>\n",
              "      <td>1.0</td>\n",
              "      <td>0.0</td>\n",
              "      <td>1.0</td>\n",
              "      <td>126000000.0</td>\n",
              "      <td>0</td>\n",
              "    </tr>\n",
              "    <tr>\n",
              "      <th>8</th>\n",
              "      <td>2011.0</td>\n",
              "      <td>1.0</td>\n",
              "      <td>0.0</td>\n",
              "      <td>0.5</td>\n",
              "      <td>1.0</td>\n",
              "      <td>0.0</td>\n",
              "      <td>1.0</td>\n",
              "      <td>200000000.0</td>\n",
              "      <td>0</td>\n",
              "    </tr>\n",
              "    <tr>\n",
              "      <th>9</th>\n",
              "      <td>2011.0</td>\n",
              "      <td>1.0</td>\n",
              "      <td>0.0</td>\n",
              "      <td>0.5</td>\n",
              "      <td>1.0</td>\n",
              "      <td>0.0</td>\n",
              "      <td>1.0</td>\n",
              "      <td>410000000.0</td>\n",
              "      <td>0</td>\n",
              "    </tr>\n",
              "  </tbody>\n",
              "</table>\n",
              "</div>"
            ],
            "text/plain": [
              "     year  day  length  weight  ...  looped  neighbors       income  prediction\n",
              "0  2011.0  1.0     0.0     0.5  ...     0.0        1.0   43000000.0           0\n",
              "1  2011.0  1.0     0.0     0.5  ...     0.0        1.0   43000000.0           0\n",
              "2  2011.0  1.0     0.0     0.5  ...     0.0        1.0   46000000.0           0\n",
              "3  2011.0  1.0     0.0     0.5  ...     0.0        1.0   90000000.0           0\n",
              "4  2011.0  1.0     0.0     0.5  ...     0.0        1.0  100000000.0           0\n",
              "5  2011.0  1.0     0.0     0.5  ...     0.0        1.0  100000000.0           0\n",
              "6  2011.0  1.0     0.0     0.5  ...     0.0        1.0  101000000.0           0\n",
              "7  2011.0  1.0     0.0     0.5  ...     0.0        1.0  126000000.0           0\n",
              "8  2011.0  1.0     0.0     0.5  ...     0.0        1.0  200000000.0           0\n",
              "9  2011.0  1.0     0.0     0.5  ...     0.0        1.0  410000000.0           0\n",
              "\n",
              "[10 rows x 9 columns]"
            ]
          },
          "metadata": {
            "tags": []
          },
          "execution_count": 34
        }
      ]
    },
    {
      "cell_type": "code",
      "metadata": {
        "id": "Bu5dvyqxbIcQ",
        "colab": {
          "base_uri": "https://localhost:8080/",
          "height": 197
        },
        "outputId": "77cec267-8781-4325-ba0c-56799248b813"
      },
      "source": [
        "pddf_pred['prediction'].value_counts()"
      ],
      "execution_count": null,
      "outputs": [
        {
          "output_type": "execute_result",
          "data": {
            "text/plain": [
              "2    455796\n",
              "0    450994\n",
              "1    438507\n",
              "5    263362\n",
              "9    259864\n",
              "6    254684\n",
              "4     63023\n",
              "8       769\n",
              "3        28\n",
              "7         3\n",
              "Name: prediction, dtype: int64"
            ]
          },
          "metadata": {
            "tags": []
          },
          "execution_count": 35
        }
      ]
    },
    {
      "cell_type": "code",
      "metadata": {
        "id": "8qV7vTsBkhnp",
        "colab": {
          "base_uri": "https://localhost:8080/",
          "height": 421
        },
        "outputId": "7093eedf-d080-4b1c-93aa-2f444f449e6e"
      },
      "source": [
        "#silhouette_coefficients = []\n",
        "fig = plt.figure(figsize=(11,7))\n",
        "ax = plt.axes(projection='3d')\n",
        "sctt = ax.scatter3D(pddf_pred['length'], pddf_pred['weight'], pddf_pred['income'], c=pddf_pred.prediction,cmap=\"viridis\")\n",
        "ax.set_xlabel('length')\n",
        "ax.set_ylabel('weight')\n",
        "ax.set_zlabel('income')\n",
        "fig.colorbar(sctt, ax=ax)\n",
        "plt.show()"
      ],
      "execution_count": null,
      "outputs": [
        {
          "output_type": "display_data",
          "data": {
            "image/png": "[encoded data removed]",
            "text/plain": [
              "<Figure size 792x504 with 2 Axes>"
            ]
          },
          "metadata": {
            "tags": [],
            "needs_background": "light"
          }
        }
      ]
    },
    {
      "cell_type": "code",
      "metadata": {
        "id": "hTQo9rEYbIq2"
      },
      "source": [
        "threedee = plt.figure(figsize=(12,10)).gca(projection='3d')\n",
        "threedee.scatter(pddf_pred['length'], pddf_pred['weight'], pddf_pred['income'], c=pddf_pred.prediction,cmap=\"viridis\")\n",
        "threedee.set_xlabel('length')\n",
        "threedee.set_ylabel('weight')\n",
        "threedee.set_zlabel('income')\n",
        "plt.colorbar()\n",
        "plt.show()"
      ],
      "execution_count": null,
      "outputs": []
    },
    {
      "cell_type": "code",
      "metadata": {
        "id": "0-9ZrMrJGm8x"
      },
      "source": [
        "threedee = plt.figure(figsize=(12,10)).gca(projection='3d')\n",
        "threedee.scatter(pddf_pred['length'], pddf_pred['weight'], pddf_pred['income'], c=model.prediction)\n",
        "threedee.set_xlabel('length')\n",
        "threedee.set_ylabel('weight')\n",
        "threedee.set_zlabel('income')\n",
        "plt.show()"
      ],
      "execution_count": null,
      "outputs": []
    }
  ]
}